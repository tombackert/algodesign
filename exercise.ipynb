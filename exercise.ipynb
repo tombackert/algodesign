{
 "cells": [
  {
   "cell_type": "code",
   "execution_count": 20,
   "id": "03c154c0",
   "metadata": {},
   "outputs": [],
   "source": [
    "import numpy as np"
   ]
  },
  {
   "cell_type": "code",
   "execution_count": 21,
   "id": "1a8d7b80",
   "metadata": {},
   "outputs": [],
   "source": [
    "def insertion_sort(A):\n",
    "    \"\"\"Sorts a list A using the insertion sort algorithm.\n",
    "    Time complexity: Θ(n^2)\n",
    "    Space complexity: Θ(1)\n",
    "    \"\"\"\n",
    "    for j in range(2, len(A)):\n",
    "        key = A[j]\n",
    "\n",
    "        # insert A[j] into the sorted sequence A[1 .. j - 1]\n",
    "        i = j - 1\n",
    "        while i > 0 and A[i] > key:\n",
    "            A[i + 1] = A[i]\n",
    "            i = i - 1\n",
    "        A[i + 1] = key\n",
    "\n",
    "    return A"
   ]
  },
  {
   "cell_type": "code",
   "execution_count": 22,
   "id": "2195ced8",
   "metadata": {},
   "outputs": [
    {
     "name": "stdout",
     "output_type": "stream",
     "text": [
      "[1, 2, 3, 4, 5, 6, 7, 8, 9, 10]\n"
     ]
    }
   ],
   "source": [
    "A = [1, 2, 4, 5, 6, 7, 3, 9, 8, 10]\n",
    "\n",
    "print(insertion_sort(A))"
   ]
  },
  {
   "cell_type": "code",
   "execution_count": 23,
   "id": "d99a5598",
   "metadata": {},
   "outputs": [],
   "source": [
    "def square_matrix_multiply(A: np.ndarray, B: np.ndarray) -> np.ndarray:\n",
    "    \"\"\"Multiplies two square matrices A and B.\n",
    "    Time complexity: Θ(n^3)\n",
    "    Space complexity: Θ(n^2)\n",
    "    \"\"\"\n",
    "    n = A.shape[0]\n",
    "    C = np.ones((n, n))\n",
    "    for i in range(n):\n",
    "        for j in range(n):\n",
    "            C[i, j] = 0\n",
    "            for k in range(n):\n",
    "                C[i, j] += A[i, k] * B[k, j]\n",
    "\n",
    "    return C"
   ]
  },
  {
   "cell_type": "code",
   "execution_count": 24,
   "id": "50393f88",
   "metadata": {},
   "outputs": [],
   "source": [
    "def strassen_multiply(X: np.ndarray, Y: np.ndarray) -> np.ndarray:\n",
    "    \"\"\"Multiplies two equally sized square matrices of power 2 via Strassen.\n",
    "    Time complexity: Θ(n^log2(7)) -> Θ(n^2.81)\n",
    "    Space complexity: Θ(n^2)\n",
    "    \"\"\"\n",
    "\n",
    "    n = X.shape[0]\n",
    "\n",
    "    if n == 1:\n",
    "        return X * Y\n",
    "\n",
    "    A = X[:n//2, :n//2] \n",
    "    B = X[:n//2, n//2:]\n",
    "    C = X[n//2:, :n//2]\n",
    "    D = X[n//2:, n//2:]\n",
    "    E = Y[:n//2, :n//2]\n",
    "    F = Y[:n//2, n//2:]\n",
    "    G = Y[n//2:, :n//2]\n",
    "    H = Y[n//2:, n//2:]\n",
    "\n",
    "    P1 = strassen_multiply(A + D, E + H)\n",
    "    P2 = strassen_multiply(C + D, E)\n",
    "    P3 = strassen_multiply(A, F + H)\n",
    "    P4 = strassen_multiply(D, G - E)\n",
    "    P5 = strassen_multiply(A + B, H)\n",
    "    P6 = strassen_multiply(C - A, E + F)\n",
    "    P7 = strassen_multiply(B - D, G + H)\n",
    "\n",
    "    top_left = P1 + P4 - P5 + P7\n",
    "    top_right = P3 + P5\n",
    "    bottom_left = P2 + P4\n",
    "    bottom_right = P1 - P2 + P3 + P6\n",
    "\n",
    "    top = np.hstack((top_left, top_right))\n",
    "    bottom = np.hstack((bottom_left, bottom_right))\n",
    "\n",
    "    result = np.vstack((top, bottom))\n",
    "    return result"
   ]
  },
  {
   "cell_type": "code",
   "execution_count": 25,
   "id": "2be3f416",
   "metadata": {},
   "outputs": [
    {
     "name": "stdout",
     "output_type": "stream",
     "text": [
      "[[ 80  70  60  50]\n",
      " [240 214 188 162]\n",
      " [400 358 316 274]\n",
      " [560 502 444 386]]\n",
      "[[ 80 110  80  92]\n",
      " [240 254 272 252]\n",
      " [400 622 336 476]\n",
      " [560 766 528 636]]\n"
     ]
    }
   ],
   "source": [
    "A = np.array([[1, 2, 3, 4],\n",
    "              [5, 6, 7, 8],\n",
    "              [9, 10, 11, 12],\n",
    "              [13, 14, 15, 16]], dtype=int)\n",
    "\n",
    "B = np.array([[16, 15, 14, 13],\n",
    "              [12, 11, 10, 9],\n",
    "              [8, 7, 6, 5],\n",
    "              [4, 3, 2, 1]], dtype=int)\n",
    "\n",
    "print(A @ B)\n",
    "#print(square_matrix_multiply(A, B))\n",
    "print(strassen_multiply(A, B))"
   ]
  },
  {
   "cell_type": "code",
   "execution_count": 26,
   "id": "1dbc9d25",
   "metadata": {},
   "outputs": [
    {
     "name": "stdout",
     "output_type": "stream",
     "text": [
      "38\n",
      "38\n"
     ]
    }
   ],
   "source": [
    "# Karatsuba example\n",
    "a = 3\n",
    "b = 4\n",
    "c = 5\n",
    "d = 6\n",
    "\n",
    "print(a * d + b * c)\n",
    "print(((a + b) * (c + d) - a * c - b * d))"
   ]
  },
  {
   "cell_type": "code",
   "execution_count": null,
   "id": "60969a27",
   "metadata": {},
   "outputs": [],
   "source": [
    "def merge(arr, left, mid, right):\n",
    "    \"\"\"Merges two subarrays.\"\"\"\n",
    "    n1 = mid - left + 1\n",
    "    n2 = right - mid\n",
    "\n",
    "    # Create temp arrays\n",
    "    L = [0] * n1\n",
    "    R = [0] * n2\n",
    "\n",
    "    # Copy data to temp arrays L[] and R[]\n",
    "    for i in range(n1):\n",
    "        L[i] = arr[left + i]\n",
    "    for j in range(n2):\n",
    "        R[j] = arr[mid + 1 + j]\n",
    "\n",
    "    i = 0\n",
    "    j = 0\n",
    "    k = left\n",
    "\n",
    "    # Merge the temp arrays back\n",
    "    # into arr[left..right]\n",
    "    while i < n1 and j < n2:\n",
    "        if L[i] <= R[j]:\n",
    "            arr[k] = L[i]\n",
    "            i += 1\n",
    "        else:\n",
    "            arr[k] = R[j]\n",
    "            j += 1\n",
    "        k += 1\n",
    "\n",
    "    # Copy the remaining elements of L[],\n",
    "    # if there are any\n",
    "    while i < n1:\n",
    "        arr[k] = L[i]\n",
    "        i += 1\n",
    "        k += 1\n",
    "\n",
    "    # Copy the remaining elements of R[],\n",
    "    # if there are any\n",
    "    while j < n2:\n",
    "        arr[k] = R[j]\n",
    "        j += 1\n",
    "        k += 1\n",
    "\n",
    "\n",
    "def merge_sort(arr, left, right):\n",
    "    \"\"\"Sorts an array in place using the merge sort algorithm.\n",
    "    Time complexity: Θ(n log n)\n",
    "    Space complexity: Θ(n)\"\"\"\n",
    "    if left < right:\n",
    "        mid = (left + right) // 2\n",
    "\n",
    "        merge_sort(arr, left, mid)\n",
    "        merge_sort(arr, mid + 1, right)\n",
    "        merge(arr, left, mid, right)"
   ]
  },
  {
   "cell_type": "code",
   "execution_count": 28,
   "id": "a2662c12",
   "metadata": {},
   "outputs": [
    {
     "name": "stdout",
     "output_type": "stream",
     "text": [
      "[5, 10, 12, 27, 38, 43, 50, 67, 99]\n"
     ]
    }
   ],
   "source": [
    "A = [38, 27, 43, 10, 50, 67, 99, 12, 5]\n",
    "\n",
    "merge_sort(A, 0, len(A) - 1)\n",
    "print(A)"
   ]
  }
 ],
 "metadata": {
  "kernelspec": {
   "display_name": "Python 3",
   "language": "python",
   "name": "python3"
  },
  "language_info": {
   "codemirror_mode": {
    "name": "ipython",
    "version": 3
   },
   "file_extension": ".py",
   "mimetype": "text/x-python",
   "name": "python",
   "nbconvert_exporter": "python",
   "pygments_lexer": "ipython3",
   "version": "3.13.1"
  }
 },
 "nbformat": 4,
 "nbformat_minor": 5
}
