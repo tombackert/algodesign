{
 "cells": [
  {
   "cell_type": "code",
   "execution_count": 1,
   "id": "03c154c0",
   "metadata": {},
   "outputs": [],
   "source": [
    "import numpy as np"
   ]
  },
  {
   "cell_type": "code",
   "execution_count": 2,
   "id": "1a8d7b80",
   "metadata": {},
   "outputs": [],
   "source": [
    "def insertion_sort(A):\n",
    "    \"\"\"Sorts a list A using the insertion sort algorithm.\n",
    "    Run-time: Θ(n^2)\n",
    "    Space: Θ(1)\n",
    "    \"\"\"\n",
    "    for j in range(2, len(A)):\n",
    "        key = A[j]\n",
    "        \n",
    "        # insert A[j] into the sorted sequence A[1 .. j - 1]\n",
    "        i = j - 1\n",
    "        while i > 0 and A[i] > key:\n",
    "            A[i + 1] = A[i]\n",
    "            i = i - 1\n",
    "        A[i + 1] = key\n",
    "    \n",
    "    return A"
   ]
  },
  {
   "cell_type": "code",
   "execution_count": 3,
   "id": "2195ced8",
   "metadata": {},
   "outputs": [
    {
     "name": "stdout",
     "output_type": "stream",
     "text": [
      "[1, 2, 3, 4, 5, 6, 7, 8, 9, 10]\n"
     ]
    }
   ],
   "source": [
    "A = [1, 2, 4, 5, 6, 7, 3, 9, 8, 10]\n",
    "\n",
    "print(insertion_sort(A))"
   ]
  },
  {
   "cell_type": "code",
   "execution_count": 4,
   "id": "d99a5598",
   "metadata": {},
   "outputs": [],
   "source": [
    "def square_matrix_multiply(A: np.ndarray, B: np.ndarray) -> np.ndarray:\n",
    "    \"\"\"Multiplies two square matrices A and B.\n",
    "    Run-time: Θ(n^3)\n",
    "    Space: Θ(n^2)\n",
    "    \"\"\"\n",
    "    n = A.shape[0]\n",
    "    C = np.ones((n, n))\n",
    "    for i in range(n):\n",
    "        for j in range(n):\n",
    "            C[i, j] = 0\n",
    "            for k in range(n):\n",
    "                C[i, j] += A[i, k] * B[k, j]\n",
    "\n",
    "    return C"
   ]
  },
  {
   "cell_type": "code",
   "execution_count": 5,
   "id": "50393f88",
   "metadata": {},
   "outputs": [],
   "source": [
    "def strassen_multiply(X: np.ndarray, Y: np.ndarray) -> np.ndarray:\n",
    "    \"\"\"Multiplies two equally sized square matrices of power 2 via Strassen.\n",
    "    Run-time: Θ(n^log2(7)) -> Θ(n^2.81)\n",
    "    Space: Θ(n^2)\n",
    "    \"\"\"\n",
    "\n",
    "    n = X.shape[0]\n",
    "\n",
    "    if n == 1:\n",
    "        return X * Y\n",
    "\n",
    "    A = X[:n//2, :n//2] \n",
    "    B = X[:n//2, n//2:]\n",
    "    C = X[n//2:, :n//2]\n",
    "    D = X[n//2:, n//2:]\n",
    "    E = Y[:n//2, :n//2]\n",
    "    F = Y[:n//2, n//2:]\n",
    "    G = Y[n//2:, :n//2]\n",
    "    H = Y[n//2:, n//2:]\n",
    "\n",
    "    P1 = strassen_multiply(A + D, E + H)\n",
    "    P2 = strassen_multiply(C + D, E)\n",
    "    P3 = strassen_multiply(A, F + H)\n",
    "    P4 = strassen_multiply(D, G - E)\n",
    "    P5 = strassen_multiply(A + B, H)\n",
    "    P6 = strassen_multiply(C - A, E + F)\n",
    "    P7 = strassen_multiply(B - D, G + H)\n",
    "\n",
    "    top_left = P1 + P4 - P5 + P7\n",
    "    top_right = P3 + P5\n",
    "    bottom_left = P2 + P4\n",
    "    bottom_right = P1 - P2 + P3 + P6\n",
    "\n",
    "    top = np.hstack((top_left, top_right))\n",
    "    bottom = np.hstack((bottom_left, bottom_right))\n",
    "\n",
    "    result = np.vstack((top, bottom))\n",
    "    return result"
   ]
  },
  {
   "cell_type": "code",
   "execution_count": 6,
   "id": "2be3f416",
   "metadata": {},
   "outputs": [
    {
     "name": "stdout",
     "output_type": "stream",
     "text": [
      "[[ 80  70  60  50]\n",
      " [240 214 188 162]\n",
      " [400 358 316 274]\n",
      " [560 502 444 386]]\n",
      "[[ 80 110  80  92]\n",
      " [240 254 272 252]\n",
      " [400 622 336 476]\n",
      " [560 766 528 636]]\n"
     ]
    }
   ],
   "source": [
    "A = np.array([[1, 2, 3, 4],\n",
    "              [5, 6, 7, 8],\n",
    "              [9, 10, 11, 12],\n",
    "              [13, 14, 15, 16]], dtype=int)\n",
    "\n",
    "B = np.array([[16, 15, 14, 13],\n",
    "              [12, 11, 10, 9],\n",
    "              [8, 7, 6, 5],\n",
    "              [4, 3, 2, 1]], dtype=int)\n",
    "\n",
    "print(A @ B)\n",
    "#print(square_matrix_multiply(A, B))\n",
    "print(strassen_multiply(A, B))"
   ]
  }
 ],
 "metadata": {
  "kernelspec": {
   "display_name": "Python 3",
   "language": "python",
   "name": "python3"
  },
  "language_info": {
   "codemirror_mode": {
    "name": "ipython",
    "version": 3
   },
   "file_extension": ".py",
   "mimetype": "text/x-python",
   "name": "python",
   "nbconvert_exporter": "python",
   "pygments_lexer": "ipython3",
   "version": "3.13.1"
  }
 },
 "nbformat": 4,
 "nbformat_minor": 5
}
